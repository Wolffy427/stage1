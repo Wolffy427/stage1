{
 "cells": [
  {
   "cell_type": "code",
   "execution_count": 1,
   "id": "7820b9e9",
   "metadata": {},
   "outputs": [],
   "source": [
    "import torch\n",
    "import torch.nn as nn\n",
    "import torch.nn.functional as F\n",
    "import math\n",
    "\n",
    "class MultiHeadAttention(nn.Module):\n",
    "    def __init__(self, d_model, h):\n",
    "        super(MultiHeadAttention, self).__init__()\n",
    "        assert d_model % h == 0, \"d_model 必须能被h整除\"\n",
    "\n",
    "        self.d_model = d_model\n",
    "        self.h = h\n",
    "\n",
    "        self.w_q = nn.Linear(d_model, d_model)\n",
    "        self.w_k = nn.Linear(d_model, d_model)\n",
    "        self.w_v = nn.Linear(d_model, d_model)\n",
    "\n",
    "        self.fc_out = nn.Linear(d_model, d_model)\n",
    "    \n",
    "    def forward(self, q, k, v, mask=None):\n",
    "        batch_size = q.size(0)\n",
    "\n",
    "        seq_len_q = q.size(1)\n",
    "        seq_len_k = k.size(1)\n",
    "\n",
    "        Q = self.w_q(q).view(batch_size, seq_len_q, self.h, -1).transpose(1, 2)\n",
    "        K = self.w_k(k).view(batch_size, seq_len_k, self.h, -1).transpose(1, 2)\n",
    "        V = self.w_v(v).view(batch_size, seq_len_k, self.h, -1).transpose(1, 2)\n",
    "\n",
    "        scaled_attention = scaled_dot_product_attention(Q, K, V, mask)\n",
    "\n",
    "        concat_out = scaled_attention.transpose(1, 2).contiguous().view(batch_size, -1, self.d_model)\n",
    "\n",
    "        out = self.fc_out(concat_out)\n",
    "\n",
    "        return out\n",
    "\n",
    "def scaled_dot_product_attention(Q, K, V, mask=None):\n",
    "    d_k = Q.size(-1)\n",
    "\n",
    "    scores = torch.matmul(Q, K.transpose(-1, -2)) / math.sqrt(d_k)\n",
    "\n",
    "    if mask is not None:\n",
    "        scores.masked_fill(mask == 0, float('-inf'))\n",
    "\n",
    "    attention_weights = F.softmax(scores, dim=-1)\n",
    "    \n",
    "    output = torch.matmul(attention_weights, V)\n",
    "\n",
    "    return output, attention_weights\n"
   ]
  },
  {
   "cell_type": "code",
   "execution_count": 2,
   "id": "5bd46ac2",
   "metadata": {},
   "outputs": [],
   "source": [
    "class PositionwiseFeedForward(nn.Module):\n",
    "    def __init__(self, d_model, d_ff, dropout=0.1):\n",
    "        super(PositionwiseFeedForward, self).__init__()\n",
    "        self.w_1 = nn.Linear(d_model, d_ff)\n",
    "        self.w_2 = nn.Linear(d_ff, d_model)\n",
    "        #self.dropout = nn.Dropout(dropout)\n",
    "    \n",
    "    def forward(self, x):\n",
    "        return self.w_2(self.w_1(x).relu())"
   ]
  },
  {
   "cell_type": "code",
   "execution_count": 3,
   "id": "65fa9396",
   "metadata": {},
   "outputs": [],
   "source": [
    "class LayerNorm(nn.Module):\n",
    "    def __init__(self, feature_size, epsilon=1e-9):\n",
    "        super(LayerNorm, self).__init__()\n",
    "        self.gamma = nn.Parameter(torch.ones(feature_size))\n",
    "        self.beta = nn.Parameter(torch.zeros(feature_size))\n",
    "        self.epsilon = epsilon\n",
    "        \n",
    "    def forward(self, x):\n",
    "        mean = x.mean(dim=-1, keepdim=True)\n",
    "        std = x.std(dim=-1, keepdim=True)\n",
    "        return self.gamma * (x - mean) / (std + self.epsilon) + self.beta"
   ]
  },
  {
   "cell_type": "code",
   "execution_count": 35,
   "id": "54fccb45",
   "metadata": {},
   "outputs": [],
   "source": [
    "class SublayerConnection(nn.Module):\n",
    "    def __init__(self, feature_size, dropout=0.1, epsilon=1e-9):\n",
    "        super(SublayerConnection, self).__init__()\n",
    "        self.norm = LayerNorm(feature_size, epsilon)\n",
    "        self.dropout = nn.Dropout(dropout)\n",
    "    \n",
    "    def forward(self, x, sublayer):\n",
    "        return self.norm(x + self.dropout(sublayer(x)))"
   ]
  },
  {
   "cell_type": "code",
   "execution_count": 5,
   "id": "35d31ec4",
   "metadata": {},
   "outputs": [],
   "source": [
    "class Embeddings(nn.Module):\n",
    "    def __init__(self, vocab_size, d_model):\n",
    "        super(Embeddings, self).__init__()\n",
    "        self.embed = nn.Embedding(vocab_size, d_model)\n",
    "        self.scale_factor = math.sqrt(d_model)\n",
    "\n",
    "    def forward(self, x):\n",
    "        return self.embed(x) * self.scale_factor"
   ]
  },
  {
   "cell_type": "code",
   "execution_count": 6,
   "id": "416f7945",
   "metadata": {},
   "outputs": [],
   "source": [
    "class PositionalEncoding(nn.Module):\n",
    "    def __init__(self, d_model, dropout=0.1, max_len=5000):\n",
    "        super(PositionalEncoding, self).__init__()\n",
    "        self.dropout = nn.Dropout(dropout)\n",
    "        \n",
    "        pe = torch.zeros(max_len, d_model)\n",
    "        position = torch.arange(0, max_len).unsqueeze(1)\n",
    "\n",
    "        div_term = torch.exp(\n",
    "            torch.arange(0, d_model, 2) * (-math.log(10000.0) / d_model)\n",
    "        )\n",
    "\n",
    "        pe[:, 0::2] = torch.sin(position * div_term)\n",
    "        pe[:, 1::2] = torch.cos(position * div_term)\n",
    "\n",
    "        pe = pe.unsqueeze(0)\n",
    "\n",
    "        self.register_buffer('pe', pe)\n",
    "    \n",
    "    def forward(self, x):\n",
    "        x = x + self.pe[:, :x.size(1), :]\n",
    "        return self.dropout(x)"
   ]
  },
  {
   "cell_type": "code",
   "execution_count": 7,
   "id": "7a03cad5",
   "metadata": {},
   "outputs": [],
   "source": [
    "class SourceEmbedding(nn.Module):\n",
    "    def __init__(self, src_vocab_size, d_model, dropout=0.1):\n",
    "        super(SourceEmbedding, self).__init__()\n",
    "        self.embed = Embeddings(src_vocab_size, d_model)\n",
    "        self.positional_encoding = PositionalEncoding(d_model, dropout)\n",
    "    \n",
    "    def forward(self, x):\n",
    "        x = self.embed(x)\n",
    "        return self.positional_encoding(x)"
   ]
  },
  {
   "cell_type": "code",
   "execution_count": 8,
   "id": "79a7b096",
   "metadata": {},
   "outputs": [],
   "source": [
    "class TargetEmbedding(nn.Module):\n",
    "    def __init__(self, tgt_vocab_size, d_model, dropout=0.1):\n",
    "        super(TargetEmbedding, self).__init__()\n",
    "        self.embed = Embeddings(tgt_vocab_size, d_model)\n",
    "        self.positional_encoding = PositionalEncoding(d_model, dropout)\n",
    "    \n",
    "    def forward(self, x):\n",
    "        x = self.embed(x)\n",
    "        return self.positional_encoding(x)"
   ]
  },
  {
   "cell_type": "code",
   "execution_count": null,
   "id": "a7f04607",
   "metadata": {},
   "outputs": [],
   "source": [
    "tgt = \"<sos> I love NLP <eos>\"\n",
    "\n",
    "tgt_input = tgt[:-1]  # \"<sos> I love NLP\"\n",
    "tgt_output = tgt[1:]  # \"I love NLP <eos>\""
   ]
  },
  {
   "cell_type": "code",
   "execution_count": 9,
   "id": "9ba79b2a",
   "metadata": {},
   "outputs": [],
   "source": [
    "def create_padding_mask(seq, pad_token_id=0):\n",
    "    mask = (seq != pad_token_id).unsqueeze(1).unsqueeze(2)\n",
    "    return mask"
   ]
  },
  {
   "cell_type": "code",
   "execution_count": 10,
   "id": "a1f89661",
   "metadata": {},
   "outputs": [
    {
     "name": "stdout",
     "output_type": "stream",
     "text": [
      "tensor([[[[ True,  True,  True, False, False]]],\n",
      "\n",
      "\n",
      "        [[[ True,  True, False, False, False]]]])\n"
     ]
    }
   ],
   "source": [
    "seq = torch.tensor([[5, 7, 9, 0, 0], [8, 6, 0, 0, 0]])  # 0 表示 <PAD>\n",
    "print(create_padding_mask(seq))"
   ]
  },
  {
   "cell_type": "code",
   "execution_count": 11,
   "id": "f4e8eb57",
   "metadata": {},
   "outputs": [],
   "source": [
    "def create_look_ahead_mask(size):\n",
    "    mask = torch.tril(torch.ones(size, size).type(torch.bool))\n",
    "    return mask"
   ]
  },
  {
   "cell_type": "code",
   "execution_count": 12,
   "id": "2ff8023d",
   "metadata": {},
   "outputs": [
    {
     "name": "stdout",
     "output_type": "stream",
     "text": [
      "tensor([[ True, False, False, False, False],\n",
      "        [ True,  True, False, False, False],\n",
      "        [ True,  True,  True, False, False],\n",
      "        [ True,  True,  True,  True, False],\n",
      "        [ True,  True,  True,  True,  True]])\n"
     ]
    }
   ],
   "source": [
    "print(create_look_ahead_mask(5))"
   ]
  },
  {
   "cell_type": "markdown",
   "id": "50e2e4ab",
   "metadata": {},
   "source": [
    "PyTorch 中的广播机制类似于 NumPy。两个张量进行逐元素运算时，它们的维度会从右向左对齐，如果满足以下任一条件，则可以广播：\n",
    "- 维度长度相同；\n",
    "- 其中一个张量该维度长度为 1；\n",
    "- 缺少该维度（即维度数量较少的会在前面自动补 1）。"
   ]
  },
  {
   "cell_type": "code",
   "execution_count": 22,
   "id": "688d1514",
   "metadata": {},
   "outputs": [],
   "source": [
    "def create_decoder_mask(tgt_seq, pad_token_id=0):\n",
    "    padding_mask = create_padding_mask(tgt_seq, pad_token_id)\n",
    "    look_ahead_mask = create_look_ahead_mask(tgt_seq.size(1)).to(tgt_seq.device)\n",
    "\n",
    "    combined_mask = look_ahead_mask.unsqueeze(0) & padding_mask\n",
    "    # combined_mask = look_ahead_mask & padding_mask\n",
    "    return combined_mask"
   ]
  },
  {
   "cell_type": "code",
   "execution_count": 23,
   "id": "1d3a5646",
   "metadata": {},
   "outputs": [
    {
     "name": "stdout",
     "output_type": "stream",
     "text": [
      "torch.Size([1, 1, 5, 5])\n"
     ]
    }
   ],
   "source": [
    "tgt_seq = torch.tensor([[1, 2, 3, 4, 0]])  # 0 表示 <PAD>\n",
    "mask = create_decoder_mask(tgt_seq)\n",
    "print(mask.shape)\n"
   ]
  },
  {
   "cell_type": "code",
   "execution_count": 25,
   "id": "f1b2486e",
   "metadata": {},
   "outputs": [],
   "source": [
    "class EncoderLayer(nn.Module):\n",
    "    def __init__(self, d_model, h, d_ff, dropout=0.1):\n",
    "        super(EncoderLayer, self).__init__()\n",
    "        self.self_attn = MultiHeadAttention(d_model, h)\n",
    "        self.feed_forward = PositionwiseFeedForward(d_model, d_ff, dropout)\n",
    "\n",
    "        self.sublayers = nn.ModuleList([SublayerConnection(d_model, dropout) for _ in range(2)])\n",
    "        self.d_model = d_model\n",
    "    \n",
    "    def forward(self, x, src_mask):\n",
    "        x = self.sublayers[0](x, lambda x: self.self_attn(x, x, x, src_mask))\n",
    "        x = self.sublayers[1](x, self.feed_forward)\n",
    "        return x"
   ]
  },
  {
   "cell_type": "code",
   "execution_count": 26,
   "id": "9a76c5fd",
   "metadata": {},
   "outputs": [],
   "source": [
    "class DecoderLayer(nn.Module):\n",
    "    def __init__(self, d_model, h, d_ff, dropout=0.1):\n",
    "        super(DecoderLayer, self).__init__()\n",
    "        self.self_attn = MultiHeadAttention(d_model, h)\n",
    "        self.cross_attn = MultiHeadAttention(d_model, h)\n",
    "        self.feed_forward = PositionwiseFeedForward(d_model, d_ff, dropout)\n",
    "\n",
    "        self.sublayers = nn.ModuleList([SublayerConnection(d_model, dropout) for _ in range(3)])\n",
    "        self.d_model = d_model\n",
    "    \n",
    "    def forward(self, x, memory, src_mask, tgt_mask):\n",
    "        x = self.sublayers[0](x, lambda x: self.self_attn(x, x, x, tgt_mask))\n",
    "\n",
    "        x = self.sublayers[1](x, lambda x: self.cross_attn(x, memory, memory, src_mask))\n",
    "\n",
    "        x = self.sublayers[2](x, self.feed_forward)\n",
    "\n",
    "        return x\n"
   ]
  },
  {
   "cell_type": "code",
   "execution_count": 27,
   "id": "f950bcc8",
   "metadata": {},
   "outputs": [],
   "source": [
    "class Encoder(nn.Module):\n",
    "    def __init__(self, d_model, N, h, d_ff, dropout=0.1):\n",
    "        super(Encoder, self).__init__()\n",
    "\n",
    "        self.layers = nn.ModuleList([EncoderLayer(d_model, h, d_ff, dropout) for _ in range(N)])\n",
    "\n",
    "        self.norm = LayerNorm(d_model)\n",
    "    \n",
    "    def forward(self, x, mask):\n",
    "        for layer in self.layers:\n",
    "            x = layer(x, mask)\n",
    "        return self.norm(x)"
   ]
  },
  {
   "cell_type": "code",
   "execution_count": 29,
   "id": "14103e99",
   "metadata": {},
   "outputs": [],
   "source": [
    "class Decoder(nn.Module):\n",
    "    def __init__(self, d_model, N, h, d_ff, dropout=0.1):\n",
    "        super(Decoder, self).__init__()\n",
    "        self.layers = nn.ModuleList([DecoderLayer(d_model, h, d_ff, dropout) for _ in range(N)])\n",
    "\n",
    "        self.norm = LayerNorm(d_model)\n",
    "    \n",
    "    def forward(self, x, memory, src_mask, tgt_mask):\n",
    "        for layer in self.layers:\n",
    "            x = layer(x, memory, src_mask, tgt_mask)\n",
    "        return self.norm(x)"
   ]
  },
  {
   "cell_type": "code",
   "execution_count": 37,
   "id": "15740c0d",
   "metadata": {},
   "outputs": [],
   "source": [
    "class Transformer(nn.Module):\n",
    "    def __init__(self, src_vocab_size, tgt_vocab_size, d_model, N, h, d_ff, dropout=0.1):\n",
    "        super(Transformer, self).__init__()\n",
    "        self.src_embedding = SourceEmbedding(src_vocab_size, d_model, dropout)\n",
    "        self.tgt_embedding = TargetEmbedding(tgt_vocab_size, d_model, dropout=0.1)\n",
    "\n",
    "        self.encoder = Encoder(d_model, N, h, d_ff, dropout)\n",
    "        self.decoder = Decoder(d_model, N, h, d_ff, dropout)\n",
    "\n",
    "        self.fc_out = nn.Linear(d_model, tgt_vocab_size)\n",
    "    \n",
    "    def forward(self, src, tgt):\n",
    "        src_mask = create_padding_mask(src)\n",
    "        tgt_mask = create_decoder_mask(tgt)\n",
    "\n",
    "        enc_output = self.encoder(self.src_embedding(src), src_mask)\n",
    "\n",
    "        dec_output = self.decoder(self.tgt_embedding(tgt), enc_output, src_mask, tgt_mask)\n",
    "\n",
    "        output = self.fc_out(dec_output)\n",
    "        \n",
    "        return output\n"
   ]
  },
  {
   "cell_type": "code",
   "execution_count": 38,
   "id": "d443577e",
   "metadata": {},
   "outputs": [
    {
     "name": "stdout",
     "output_type": "stream",
     "text": [
      "Transformer(\n",
      "  (src_embedding): SourceEmbedding(\n",
      "    (embed): Embeddings(\n",
      "      (embed): Embedding(5000, 512)\n",
      "    )\n",
      "    (positional_encoding): PositionalEncoding(\n",
      "      (dropout): Dropout(p=0.1, inplace=False)\n",
      "    )\n",
      "  )\n",
      "  (tgt_embedding): TargetEmbedding(\n",
      "    (embed): Embeddings(\n",
      "      (embed): Embedding(5000, 512)\n",
      "    )\n",
      "    (positional_encoding): PositionalEncoding(\n",
      "      (dropout): Dropout(p=0.1, inplace=False)\n",
      "    )\n",
      "  )\n",
      "  (encoder): Encoder(\n",
      "    (layers): ModuleList(\n",
      "      (0-5): 6 x EncoderLayer(\n",
      "        (self_attn): MultiHeadAttention(\n",
      "          (w_q): Linear(in_features=512, out_features=512, bias=True)\n",
      "          (w_k): Linear(in_features=512, out_features=512, bias=True)\n",
      "          (w_v): Linear(in_features=512, out_features=512, bias=True)\n",
      "          (fc_out): Linear(in_features=512, out_features=512, bias=True)\n",
      "        )\n",
      "        (feed_forward): PositionwiseFeedForward(\n",
      "          (w_1): Linear(in_features=512, out_features=2048, bias=True)\n",
      "          (w_2): Linear(in_features=2048, out_features=512, bias=True)\n",
      "        )\n",
      "        (sublayers): ModuleList(\n",
      "          (0-1): 2 x SublayerConnection(\n",
      "            (norm): LayerNorm()\n",
      "            (dropout): Dropout(p=0.1, inplace=False)\n",
      "          )\n",
      "        )\n",
      "      )\n",
      "    )\n",
      "    (norm): LayerNorm()\n",
      "  )\n",
      "  (decoder): Decoder(\n",
      "    (layers): ModuleList(\n",
      "      (0-5): 6 x DecoderLayer(\n",
      "        (self_attn): MultiHeadAttention(\n",
      "          (w_q): Linear(in_features=512, out_features=512, bias=True)\n",
      "          (w_k): Linear(in_features=512, out_features=512, bias=True)\n",
      "          (w_v): Linear(in_features=512, out_features=512, bias=True)\n",
      "          (fc_out): Linear(in_features=512, out_features=512, bias=True)\n",
      "        )\n",
      "        (cross_attn): MultiHeadAttention(\n",
      "          (w_q): Linear(in_features=512, out_features=512, bias=True)\n",
      "          (w_k): Linear(in_features=512, out_features=512, bias=True)\n",
      "          (w_v): Linear(in_features=512, out_features=512, bias=True)\n",
      "          (fc_out): Linear(in_features=512, out_features=512, bias=True)\n",
      "        )\n",
      "        (feed_forward): PositionwiseFeedForward(\n",
      "          (w_1): Linear(in_features=512, out_features=2048, bias=True)\n",
      "          (w_2): Linear(in_features=2048, out_features=512, bias=True)\n",
      "        )\n",
      "        (sublayers): ModuleList(\n",
      "          (0-2): 3 x SublayerConnection(\n",
      "            (norm): LayerNorm()\n",
      "            (dropout): Dropout(p=0.1, inplace=False)\n",
      "          )\n",
      "        )\n",
      "      )\n",
      "    )\n",
      "    (norm): LayerNorm()\n",
      "  )\n",
      "  (fc_out): Linear(in_features=512, out_features=5000, bias=True)\n",
      ")\n"
     ]
    }
   ],
   "source": [
    "# 定义词汇表大小（根据数据集）\n",
    "src_vocab_size = 5000  # 源语言词汇表大小\n",
    "tgt_vocab_size = 5000  # 目标语言词汇表大小\n",
    "\n",
    "# 使用 Transformer base 参数\n",
    "d_model = 512      # 嵌入维度\n",
    "N = 6              # 编码器和解码器的层数\n",
    "h = 8              # 多头注意力的头数\n",
    "d_ff = 2048        # 前馈神经网络的隐藏层维度\n",
    "dropout = 0.1      # Dropout 概率\n",
    "\n",
    "# 实例化模型\n",
    "model = Transformer(\n",
    "    src_vocab_size=src_vocab_size,\n",
    "    tgt_vocab_size=tgt_vocab_size,\n",
    "    d_model=d_model,\n",
    "    N=N,\n",
    "    h=h,\n",
    "    d_ff=d_ff,\n",
    "    dropout=dropout\n",
    ")\n",
    "\n",
    "# 打印模型架构\n",
    "print(model)"
   ]
  }
 ],
 "metadata": {
  "kernelspec": {
   "display_name": "stage1",
   "language": "python",
   "name": "python3"
  },
  "language_info": {
   "codemirror_mode": {
    "name": "ipython",
    "version": 3
   },
   "file_extension": ".py",
   "mimetype": "text/x-python",
   "name": "python",
   "nbconvert_exporter": "python",
   "pygments_lexer": "ipython3",
   "version": "3.13.4"
  }
 },
 "nbformat": 4,
 "nbformat_minor": 5
}
